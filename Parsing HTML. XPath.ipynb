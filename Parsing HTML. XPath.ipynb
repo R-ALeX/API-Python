{
 "cells": [
  {
   "cell_type": "markdown",
   "id": "e276832e",
   "metadata": {},
   "source": [
    "# Parsing HTML. XPath"
   ]
  },
  {
   "cell_type": "markdown",
   "id": "557cea58",
   "metadata": {},
   "source": [
    "Написать приложение, которое собирает основные новости с сайта на выбор lenta.ru, news.mail.ru, yandex-новости. Для парсинга использовать XPath. Структура данных должна содержать:\n",
    " - название источника;\n",
    " - наименование новости;\n",
    " - ссылку на новость;\n",
    " - дата публикации.\n",
    " \n",
    "Сложить собранные данные в БД"
   ]
  },
  {
   "cell_type": "code",
   "execution_count": 22,
   "id": "6070647a",
   "metadata": {},
   "outputs": [],
   "source": [
    "from lxml import html\n",
    "import requests\n",
    "from datetime import datetime"
   ]
  },
  {
   "cell_type": "code",
   "execution_count": 23,
   "id": "d5e10331",
   "metadata": {},
   "outputs": [],
   "source": [
    "def get_news_lenta_ru():\n",
    "    \n",
    "    news = []\n",
    "    \n",
    "    keys = ('title', 'date', 'link')\n",
    "    date_format = '%Y-%m-%dT%H:%M:%S%z'\n",
    "    link_lenta = 'https://lenta.ru/'\n",
    "\n",
    "    request = requests.get(link_lenta)\n",
    "\n",
    "    root = html.fromstring(request.text)\n",
    "    root.make_links_absolute(link_lenta)\n",
    "\n",
    "    news_links = root.xpath('''(//section[@class=\"row b-top7-for-main js-top-seven\"]//div[@class=\"first-item\"]/h2 | \n",
    "                                //section[@class=\"row b-top7-for-main js-top-seven\"]//div[@class=\"item\"])\n",
    "                                /a/@href''')\n",
    "\n",
    "    news_text = root.xpath('''(//section[@class=\"row b-top7-for-main js-top-seven\"]//div[@class=\"first-item\"]/h2 | \n",
    "                                //section[@class=\"row b-top7-for-main js-top-seven\"]//div[@class=\"item\"])\n",
    "                                /a/text()''')\n",
    "\n",
    "    news_date = root.xpath('''(//section[@class=\"row b-top7-for-main js-top-seven\"]//div[@class=\"first-item\"]/h2 | \n",
    "                                //section[@class=\"row b-top7-for-main js-top-seven\"]//div[@class=\"item\"])\n",
    "                                /a/time/@title''')\n",
    "\n",
    "    print(news_date)\n",
    "\n",
    "    for i in range(len(news_text)):\n",
    "        news_text[i] = news_text[i].replace(u'\\xa0', u' ')\n",
    "\n",
    "    for item in list(zip(news_text, news_date, news_links)):\n",
    "        news_dict = {}\n",
    "        for key, value in zip(keys, item):\n",
    "            news_dict[key] = value\n",
    "        news_dict['source'] = 'lenta.ru'\n",
    "        news.append(news_dict)\n",
    "    \n",
    "    return news"
   ]
  },
  {
   "cell_type": "code",
   "execution_count": 24,
   "id": "36cd7754",
   "metadata": {},
   "outputs": [
    {
     "name": "stdout",
     "output_type": "stream",
     "text": [
      "['25 августа 2021', '25 августа 2021', '25 августа 2021', '25 августа 2021', '25 августа 2021', '25 августа 2021', '25 августа 2021', '25 августа 2021', '25 августа 2021', '25 августа 2021']\n"
     ]
    },
    {
     "data": {
      "text/plain": [
       "[{'title': 'В Тюмени пропала еще одна девочка',\n",
       "  'date': '25 августа 2021',\n",
       "  'link': 'https://lenta.ru/news/2021/08/25/onemore/',\n",
       "  'source': 'lenta.ru'},\n",
       " {'title': 'Стали известны подробности об убийстве на кавказской свадьбе',\n",
       "  'date': '25 августа 2021',\n",
       "  'link': 'https://lenta.ru/news/2021/08/25/svadba_pogib/',\n",
       "  'source': 'lenta.ru'},\n",
       " {'title': 'Женщина взяла 1000 уроков вождения и не смогла получить водительские права',\n",
       "  'date': '25 августа 2021',\n",
       "  'link': 'https://lenta.ru/news/2021/08/25/notadiver/',\n",
       "  'source': 'lenta.ru'},\n",
       " {'title': 'Консульства России в США продолжили выдавать визы',\n",
       "  'date': '25 августа 2021',\n",
       "  'link': 'https://lenta.ru/news/2021/08/25/egal/',\n",
       "  'source': 'lenta.ru'},\n",
       " {'title': 'Необычный список покупок для мужчины вызвал споры в сети',\n",
       "  'date': '25 августа 2021',\n",
       "  'link': 'https://lenta.ru/news/2021/08/25/pokupki/',\n",
       "  'source': 'lenta.ru'},\n",
       " {'title': 'Главного реквизитора московского детского театра задержали с наркотиками ',\n",
       "  'date': '25 августа 2021',\n",
       "  'link': 'https://moslenta.ru/news/glavnogo-rekvizitora-moskovskogo-detskogo-teatra-zaderzhali-s-narkotikami-25-08-2021.htm/?utm_source=from_lenta',\n",
       "  'source': 'lenta.ru'},\n",
       " {'title': 'Слуцкий назвал выступившие за отмену лимита на легионеров клубы РПЛ',\n",
       "  'date': '25 августа 2021',\n",
       "  'link': 'https://lenta.ru/news/2021/08/25/leonidrubin/',\n",
       "  'source': 'lenta.ru'},\n",
       " {'title': 'В Гонконге подвергнут цензуре все старые фильмы из-за закона о нацбезопасности',\n",
       "  'date': '25 августа 2021',\n",
       "  'link': 'https://lenta.ru/news/2021/08/25/china_censor/',\n",
       "  'source': 'lenta.ru'},\n",
       " {'title': 'Американская компания начнет штрафовать непривитых',\n",
       "  'date': '25 августа 2021',\n",
       "  'link': 'https://lenta.ru/news/2021/08/25/strf/',\n",
       "  'source': 'lenta.ru'},\n",
       " {'title': 'Поставки складных смартфонов Samsung сорвали',\n",
       "  'date': '25 августа 2021',\n",
       "  'link': 'https://lenta.ru/news/2021/08/25/fold/',\n",
       "  'source': 'lenta.ru'}]"
      ]
     },
     "execution_count": 24,
     "metadata": {},
     "output_type": "execute_result"
    }
   ],
   "source": [
    "get_news_lenta_ru()"
   ]
  }
 ],
 "metadata": {
  "kernelspec": {
   "display_name": "Python 3 (ipykernel)",
   "language": "python",
   "name": "python3"
  },
  "language_info": {
   "codemirror_mode": {
    "name": "ipython",
    "version": 3
   },
   "file_extension": ".py",
   "mimetype": "text/x-python",
   "name": "python",
   "nbconvert_exporter": "python",
   "pygments_lexer": "ipython3",
   "version": "3.9.4"
  }
 },
 "nbformat": 4,
 "nbformat_minor": 5
}
