{
 "cells": [
  {
   "cell_type": "markdown",
   "id": "156329f3",
   "metadata": {},
   "source": [
    "# Parsing HTML, Beautiful Soup, Mongo DB"
   ]
  },
  {
   "cell_type": "markdown",
   "id": "5a58a362",
   "metadata": {},
   "source": [
    "Необходимо собрать информацию о вакансиях на вводимую должность (используем input или через аргументы получаем должность) с сайтов HH(обязательно) и/или Superjob(по желанию). Приложение должно анализировать несколько страниц сайта (также вводим через input или аргументы). Получившийся список должен содержать в себе минимум:\n",
    "\n",
    "- Наименование вакансии.\n",
    "- Предлагаемую зарплату (отдельно минимальную и максимальную).\n",
    "- Ссылку на саму вакансию.\n",
    "- Сайт, откуда собрана вакансия.\n",
    "\n",
    "По желанию можно добавить ещё параметры вакансии (например, работодателя и расположение). Структура должна быть одинаковая для вакансий с обоих сайтов. Общий результат можно вывести с помощью dataFrame через pandas. Сохраните в json либо csv."
   ]
  },
  {
   "cell_type": "code",
   "execution_count": 1,
   "id": "c2ff1cb2",
   "metadata": {},
   "outputs": [],
   "source": [
    "from bs4 import BeautifulSoup as bs\n",
    "import requests\n",
    "import re\n",
    "import pandas as pd\n",
    "from pymongo import MongoClient\n",
    "from pprint import pprint"
   ]
  },
  {
   "cell_type": "code",
   "execution_count": 2,
   "id": "6966ad2a",
   "metadata": {},
   "outputs": [],
   "source": [
    "client = MongoClient('127.0.0.1', 27017)\n",
    "\n",
    "DataBase = client['hhParsing']\n",
    "\n",
    "collection = DataBase['questionnaires']"
   ]
  },
  {
   "cell_type": "code",
   "execution_count": 3,
   "id": "63434110",
   "metadata": {},
   "outputs": [],
   "source": [
    "def _parser_item_hh(item):\n",
    "    vacancy_dict = {}\n",
    "    salary_min = None\n",
    "    salary_max = None\n",
    "    salary_currency = None\n",
    "    # vacancy_name\n",
    "    vacancy_name = item.find('span', {'class': 'resume-search-item__name'}) \\\n",
    "                    .getText() \\\n",
    "                    .replace(u'\\xa0', u' ')   \n",
    "    vacancy_dict['vacancy_name'] = vacancy_name    \n",
    "    # company_name\n",
    "    company_name = item.find('div', {'class': 'vacancy-serp-item__meta-info'}) \\\n",
    "                    .find('a') \\\n",
    "                    .getText() \n",
    "    vacancy_dict['company_name'] = company_name\n",
    "    # city\n",
    "    city = item.find('span', {'class': 'vacancy-serp-item__meta-info'}) \\\n",
    "                .getText() \\\n",
    "                .split(', ')[0]\n",
    "    vacancy_dict['city'] = city\n",
    "    #metro station\n",
    "    metro_station = item.find('span', {'class': 'vacancy-serp-item__meta-info'}).findChild()\n",
    "    if not metro_station:\n",
    "        metro_station = None\n",
    "    else:\n",
    "        metro_station = metro_station.getText()\n",
    "    vacancy_dict['metro_station'] = metro_station\n",
    "    #salary\n",
    "    salary = item.find('span', {'data-qa': 'vacancy-serp__vacancy-compensation'})        \n",
    "    if not salary:\n",
    "        salary_min = None\n",
    "        salary_max = None\n",
    "        salary_currency = None\n",
    "    else:\n",
    "        salary = salary.getText() \\\n",
    "                        .replace(u'\\xa0', u'')\n",
    "        salary_1  =re.findall(r\"[0-9]+[ ][0-9]+\", salary)\n",
    "        salary_1 = [x.replace(' ', '') for x in salary_1]\n",
    "        salary = re.split(r'\\s|-', salary)\n",
    "        if salary[0] == 'до':\n",
    "            salary_max = int(salary_1[0])\n",
    "            salary_min = None\n",
    "        elif salary[0] == 'от':\n",
    "            salary_min = int(salary_1[0])\n",
    "            salary_max = None\n",
    "        elif len(salary_1)>1:\n",
    "            salary_min = int(salary_1[0])\n",
    "            salary_max = int(salary_1[1])\n",
    "        salary_currency = salary[len(salary)-1] \n",
    "    vacancy_dict['salary_min'] = salary_min\n",
    "    vacancy_dict['salary_max'] = salary_max\n",
    "    vacancy_dict['salary_currency'] = salary_currency\n",
    "    # link\n",
    "    vacancy_link = item.find('a', {'data-qa': 'vacancy-serp__vacancy-title'})['href']\n",
    "    vacancy_dict['vacancy_link'] = vacancy_link \n",
    "    # site\n",
    "    vacancy_dict['site'] = 'hh.ru'\n",
    "    return vacancy_dict"
   ]
  },
  {
   "cell_type": "code",
   "execution_count": 4,
   "id": "6d5efd11",
   "metadata": {},
   "outputs": [],
   "source": [
    "def _parser_hh(vacancy):\n",
    "    \n",
    "    vacancy_date = []\n",
    "    \n",
    "    params = {\n",
    "        'text': vacancy, \\\n",
    "        'search_field': 'name', \\\n",
    "        'items_on_page': '100', \\\n",
    "        'page': ''\n",
    "    }\n",
    "    \n",
    "    headers = {\n",
    "        'User-Agent': 'Mozilla/5.0 (X11; Linux x86_64; rv:69.0) Gecko/20100101 Firefox/69.0'\n",
    "    }\n",
    "\n",
    "    link = 'https://hh.ru/search/vacancy'\n",
    "       \n",
    "    html = requests.get(link, params=params, headers=headers)\n",
    "    \n",
    "    if html.ok:\n",
    "        parsed_html = bs(html.text,'html.parser')\n",
    "        \n",
    "        page_block = parsed_html.find('div', {'data-qa': 'pager-block'})\n",
    "        if not page_block:\n",
    "            last_page = '1'\n",
    "        else:\n",
    "            last_page = int(page_block.find_all('a', {'class': 'bloko-button'})[-2].getText())\n",
    "            \n",
    "    for page in range(0, last_page):\n",
    "        params['page'] = page\n",
    "        html = requests.get(link, params=params, headers=headers)\n",
    "        \n",
    "        if html.ok:\n",
    "            parsed_html = bs(html.text,'html.parser')\n",
    "            \n",
    "            vacancy_items = parsed_html.find('div', {'data-qa': 'vacancy-serp__results'}) \\\n",
    "                                        .find_all('div', {'class': 'vacancy-serp-item'})\n",
    "                \n",
    "            for item in vacancy_items:\n",
    "                vacancy_date.append(_parser_item_hh(item))\n",
    "                vacancy = _parser_item_hh(item)\n",
    "                \n",
    "                if _is_exists('vacancy_link', vacancy['vacancy_link']):\n",
    "                    collection.update_one({'vacancy_link': vacancy['vacancy_link']}, {'$set': vacancy})\n",
    "                else:\n",
    "                    collection.insert_one(vacancy)\n",
    "                \n",
    "    return vacancy_date"
   ]
  },
  {
   "cell_type": "code",
   "execution_count": 5,
   "id": "605a5045",
   "metadata": {},
   "outputs": [],
   "source": [
    "def parser_vacancy(vacancy):\n",
    "        \n",
    "    vacancy_list = []\n",
    "    vacancy_list.extend(_parser_hh(vacancy))\n",
    "    \n",
    "    df = pd.DataFrame(vacancy_list)\n",
    "\n",
    "    return df"
   ]
  },
  {
   "cell_type": "markdown",
   "id": "ef169f77",
   "metadata": {},
   "source": [
    "- Написать функцию, которая будет добавлять в вашу базу данных только новые вакансии с сайта."
   ]
  },
  {
   "cell_type": "code",
   "execution_count": 6,
   "id": "78356735",
   "metadata": {},
   "outputs": [],
   "source": [
    "def _is_exists(name_tags, field):\n",
    "        return bool(collection.find_one({name_tags: { \"$in\": [field]}}))"
   ]
  },
  {
   "cell_type": "code",
   "execution_count": 7,
   "id": "4bda65f4",
   "metadata": {},
   "outputs": [],
   "source": [
    "vacancy = 'Python'\n",
    "df = parser_vacancy(vacancy)"
   ]
  },
  {
   "cell_type": "markdown",
   "id": "8357cca7",
   "metadata": {},
   "source": [
    "- Развернуть у себя на компьютере/виртуальной машине/хостинге MongoDB и реализовать функцию, записывающую собранные вакансии в созданную БД."
   ]
  },
  {
   "cell_type": "code",
   "execution_count": 10,
   "id": "d5929221",
   "metadata": {},
   "outputs": [
    {
     "name": "stdout",
     "output_type": "stream",
     "text": [
      "{'_id': ObjectId('61225d275a608d1964c0a336'),\n",
      " 'city': 'Москва',\n",
      " 'company_name': 'Сбер. IT',\n",
      " 'metro_station': None,\n",
      " 'salary_currency': None,\n",
      " 'salary_max': None,\n",
      " 'salary_min': None,\n",
      " 'site': 'hh.ru',\n",
      " 'vacancy_link': 'https://hh.ru/vacancy/47084105?from=vacancy_search_list&query=Python',\n",
      " 'vacancy_name': 'Python-разработчик'}\n",
      "{'_id': ObjectId('61225d275a608d1964c0a337'),\n",
      " 'city': 'Киев',\n",
      " 'company_name': 'ООО\\xa0Чисельні Технології',\n",
      " 'metro_station': None,\n",
      " 'salary_currency': None,\n",
      " 'salary_max': None,\n",
      " 'salary_min': None,\n",
      " 'site': 'hh.ru',\n",
      " 'vacancy_link': 'https://hh.ru/vacancy/47174921?from=vacancy_search_list&query=Python',\n",
      " 'vacancy_name': 'Math + Python developer'}\n",
      "{'_id': ObjectId('61225d275a608d1964c0a338'),\n",
      " 'city': 'Москва',\n",
      " 'company_name': 'КА Натальи Зотовой',\n",
      " 'metro_station': None,\n",
      " 'salary_currency': 'USD',\n",
      " 'salary_max': 5500,\n",
      " 'salary_min': None,\n",
      " 'site': 'hh.ru',\n",
      " 'vacancy_link': 'https://hh.ru/vacancy/47139730?from=vacancy_search_list&query=Python',\n",
      " 'vacancy_name': 'Senior Python developer'}\n",
      "{'_id': ObjectId('61225d275a608d1964c0a339'),\n",
      " 'city': 'Санкт-Петербург',\n",
      " 'company_name': 'Gigsty',\n",
      " 'metro_station': None,\n",
      " 'salary_currency': 'руб.',\n",
      " 'salary_max': 300000,\n",
      " 'salary_min': 250000,\n",
      " 'site': 'hh.ru',\n",
      " 'vacancy_link': 'https://hh.ru/vacancy/47103960?from=vacancy_search_list&query=Python',\n",
      " 'vacancy_name': 'Backend разработчик на Python'}\n",
      "{'_id': ObjectId('61225d275a608d1964c0a33a'),\n",
      " 'city': 'Сочи',\n",
      " 'company_name': 'ООО\\xa0Колл-Тулз',\n",
      " 'metro_station': None,\n",
      " 'salary_currency': 'руб.',\n",
      " 'salary_max': None,\n",
      " 'salary_min': 65000,\n",
      " 'site': 'hh.ru',\n",
      " 'vacancy_link': 'https://hh.ru/vacancy/47110879?from=vacancy_search_list&query=Python',\n",
      " 'vacancy_name': 'Junior Python developer (в Сочи)'}\n"
     ]
    }
   ],
   "source": [
    "i = 0 \n",
    "for item in collection.find({}):\n",
    "    pprint(item)\n",
    "    i += 1\n",
    "    if i == 5:\n",
    "        break"
   ]
  },
  {
   "cell_type": "markdown",
   "id": "00a47963",
   "metadata": {},
   "source": [
    "2. Написать функцию, которая будет добавлять в вашу базу данных только новые вакансии с сайта."
   ]
  },
  {
   "cell_type": "code",
   "execution_count": 11,
   "id": "4b4a6366",
   "metadata": {},
   "outputs": [],
   "source": [
    "def print_salary(salary):\n",
    "        objects = collection.find({'salary_max': {'$gt': salary}})\n",
    "        for obj in objects:\n",
    "            pprint(obj)"
   ]
  },
  {
   "cell_type": "code",
   "execution_count": 12,
   "id": "202306e4",
   "metadata": {},
   "outputs": [
    {
     "name": "stdout",
     "output_type": "stream",
     "text": [
      "{'_id': ObjectId('61225d275a608d1964c0a33f'),\n",
      " 'city': 'Санкт-Петербург',\n",
      " 'company_name': 'ООО\\xa0Вайт Код',\n",
      " 'metro_station': 'Петроградская',\n",
      " 'salary_currency': 'руб.',\n",
      " 'salary_max': 400000,\n",
      " 'salary_min': 300000,\n",
      " 'site': 'hh.ru',\n",
      " 'vacancy_link': 'https://hh.ru/vacancy/47262469?from=vacancy_search_list&query=Python',\n",
      " 'vacancy_name': 'Python developer (Senior)'}\n",
      "{'_id': ObjectId('61225fc35a608d1964c0a77b'),\n",
      " 'city': 'Москва',\n",
      " 'company_name': 'CATAPULTO.RU',\n",
      " 'metro_station': 'Павелецкая',\n",
      " 'salary_currency': 'руб.',\n",
      " 'salary_max': 400000,\n",
      " 'salary_min': 300000,\n",
      " 'site': 'hh.ru',\n",
      " 'vacancy_link': 'https://hh.ru/vacancy/44433173?from=vacancy_search_list&query=Python',\n",
      " 'vacancy_name': 'Team Lead Python/Django'}\n",
      "{'_id': ObjectId('61225fc65a608d1964c0a7c3'),\n",
      " 'city': 'Москва',\n",
      " 'company_name': 'Global Hunter',\n",
      " 'metro_station': None,\n",
      " 'salary_currency': 'руб.',\n",
      " 'salary_max': 350000,\n",
      " 'salary_min': None,\n",
      " 'site': 'hh.ru',\n",
      " 'vacancy_link': 'https://hh.ru/vacancy/46641470?from=vacancy_search_list&query=Python',\n",
      " 'vacancy_name': 'Automation QA (Python)'}\n",
      "{'_id': ObjectId('6122624e94bb7c260adbbf3a'),\n",
      " 'city': 'Москва',\n",
      " 'company_name': 'ООО\\xa0БОЛЬШАЯ ТРОЙКА',\n",
      " 'metro_station': 'Маяковская',\n",
      " 'salary_currency': 'руб.',\n",
      " 'salary_max': 350000,\n",
      " 'salary_min': 180000,\n",
      " 'site': 'hh.ru',\n",
      " 'vacancy_link': 'https://hh.ru/vacancy/46979698?from=vacancy_search_list&query=Python',\n",
      " 'vacancy_name': 'Senior Python Django developer'}\n",
      "{'_id': ObjectId('612262ac94bb7c260adbbf62'),\n",
      " 'city': 'Москва',\n",
      " 'company_name': 'ODDSCORP',\n",
      " 'metro_station': None,\n",
      " 'salary_currency': 'руб.',\n",
      " 'salary_max': 350000,\n",
      " 'salary_min': 200000,\n",
      " 'site': 'hh.ru',\n",
      " 'vacancy_link': 'https://hh.ru/vacancy/47013810?from=vacancy_search_list&query=Python',\n",
      " 'vacancy_name': 'Ведущий Python разработчик'}\n",
      "{'_id': ObjectId('6122646294bb7c260adbbf7c'),\n",
      " 'city': 'Нур-Султан',\n",
      " 'company_name': 'ТОО\\xa0Royal Fortune',\n",
      " 'metro_station': None,\n",
      " 'salary_currency': 'KZT',\n",
      " 'salary_max': 400000,\n",
      " 'salary_min': 150000,\n",
      " 'site': 'hh.ru',\n",
      " 'vacancy_link': 'https://hh.ru/vacancy/46851126?from=vacancy_search_list&query=Python',\n",
      " 'vacancy_name': 'Python Full stack разработчик'}\n"
     ]
    }
   ],
   "source": [
    "print_salary(300_000)"
   ]
  }
 ],
 "metadata": {
  "kernelspec": {
   "display_name": "Python 3 (ipykernel)",
   "language": "python",
   "name": "python3"
  },
  "language_info": {
   "codemirror_mode": {
    "name": "ipython",
    "version": 3
   },
   "file_extension": ".py",
   "mimetype": "text/x-python",
   "name": "python",
   "nbconvert_exporter": "python",
   "pygments_lexer": "ipython3",
   "version": "3.9.4"
  }
 },
 "nbformat": 4,
 "nbformat_minor": 5
}
