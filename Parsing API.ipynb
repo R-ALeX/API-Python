{
 "cells": [
  {
   "cell_type": "markdown",
   "id": "69fbbe5f",
   "metadata": {},
   "source": [
    "# Parsing API"
   ]
  },
  {
   "cell_type": "markdown",
   "id": "6777ef2a",
   "metadata": {},
   "source": [
    "1.Посмотреть документацию к API GitHub, разобраться как вывести список репозиториев для конкретного пользователя, сохранить JSON-вывод в файле *.json."
   ]
  },
  {
   "cell_type": "code",
   "execution_count": 2,
   "id": "302cd0bd",
   "metadata": {},
   "outputs": [],
   "source": [
    "import requests\n",
    "import json"
   ]
  },
  {
   "cell_type": "code",
   "execution_count": 4,
   "id": "2bef065e",
   "metadata": {},
   "outputs": [],
   "source": [
    "url = 'https://api.github.com'\n",
    "user = 'R-ALeX'"
   ]
  },
  {
   "cell_type": "code",
   "execution_count": 5,
   "id": "f62452be",
   "metadata": {},
   "outputs": [],
   "source": [
    "r = requests.get(f'{url}/users/{user}/repos')"
   ]
  },
  {
   "cell_type": "code",
   "execution_count": 6,
   "id": "5f2b621a",
   "metadata": {},
   "outputs": [],
   "source": [
    "with open('data.json', 'w') as f:\n",
    "    json.dump(r.json(), f)"
   ]
  },
  {
   "cell_type": "code",
   "execution_count": 7,
   "id": "d951ac6e",
   "metadata": {},
   "outputs": [
    {
     "name": "stdout",
     "output_type": "stream",
     "text": [
      "data-cleaning-project\n",
      "Exploratory-Data-Analysis\n",
      "Exploratory-Data-Analysis-Course-Project-2\n",
      "getting-and-cleaning-data-course-project\n",
      "getting-cleaning-data-project\n",
      "MySQL\n",
      "ProgrammingAssignment2\n",
      "Python\n",
      "Python_For_DS\n",
      "Reproducible-Research\n",
      "Reproducible-Research---Course-Project-2\n",
      "RStudio\n",
      "SQL-Scripts\n"
     ]
    }
   ],
   "source": [
    "for i in r.json():\n",
    "    print(i['name'])"
   ]
  },
  {
   "cell_type": "markdown",
   "id": "5794b7a9",
   "metadata": {},
   "source": [
    "2.Изучить список открытых API. Найти среди них любое, требующее авторизацию (любого типа). Выполнить запросы к нему, пройдя авторизацию. Ответ сервера записать в файл."
   ]
  },
  {
   "cell_type": "code",
   "execution_count": 42,
   "id": "8c7a2292",
   "metadata": {},
   "outputs": [],
   "source": [
    "url = \"https://api.nasa.gov/planetary/apod\"\n",
    "api_key = '9kNKD80rre4GALdT3Rn8dhBHc5qfordpYJGI6F4Z'\n",
    "date = '2021-08-08'"
   ]
  },
  {
   "cell_type": "code",
   "execution_count": 44,
   "id": "274b8ca1",
   "metadata": {},
   "outputs": [
    {
     "data": {
      "text/plain": [
       "{'date': '2021-08-08',\n",
       " 'explanation': \"rthlings typically watch meteor showers by looking up. But this remarkable view, captured on August 13, 2011 by astronaut Ron Garan, caught a Perseid meteor by looking down. From Garan's perspective onboard the International Space Station orbiting at an altitude of about 380 kilometers, the Perseid meteors streak below, swept up dust left from comet Swift-Tuttle heated to incandescence. The glowing comet dust grains are traveling at about 60 kilometers per second through the denser atmosphere around 100 kilometers above Earth's surface. In this case, the foreshortened meteor flash is right of frame center, below the curving limb of the Earth and a layer of greenish airglow, just below bright star Arcturus. Want to look up at a meteor shower?  You're in luck, as the 2021 Perseids meteor shower peaks this week. This year, even relatively faint meteors should be visible through clear skies from a dark location as the bright Moon will mostly absent.   Notable Perseids Submissions to APOD: 2018, 2019, 2020\",\n",
       " 'hdurl': 'https://apod.nasa.gov/apod/image/2108/perseid_iss_4256.jpg',\n",
       " 'media_type': 'image',\n",
       " 'service_version': 'v1',\n",
       " 'title': 'A Perseid Below',\n",
       " 'url': 'https://apod.nasa.gov/apod/image/2108/perseid_iss_1080.jpg'}"
      ]
     },
     "execution_count": 44,
     "metadata": {},
     "output_type": "execute_result"
    }
   ],
   "source": [
    "params = {\n",
    "    'api_key':api_key,\n",
    "    'date':date,\n",
    "    'hd':'True'\n",
    "}\n",
    "response = requests.get(URL_APOD,params=params)\n",
    "response.json()"
   ]
  },
  {
   "cell_type": "code",
   "execution_count": 45,
   "id": "456071d1",
   "metadata": {},
   "outputs": [],
   "source": [
    "with open('disk.json', 'w') as f:\n",
    "    json.dump(response.json(), f)"
   ]
  }
 ],
 "metadata": {
  "kernelspec": {
   "display_name": "Python 3",
   "language": "python",
   "name": "python3"
  },
  "language_info": {
   "codemirror_mode": {
    "name": "ipython",
    "version": 3
   },
   "file_extension": ".py",
   "mimetype": "text/x-python",
   "name": "python",
   "nbconvert_exporter": "python",
   "pygments_lexer": "ipython3",
   "version": "3.9.4"
  }
 },
 "nbformat": 4,
 "nbformat_minor": 5
}
